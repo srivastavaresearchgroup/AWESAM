{
 "cells": [
  {
   "attachments": {},
   "cell_type": "markdown",
   "id": "a866e1a5-8839-4dc1-acc4-a287a09e97d2",
   "metadata": {
    "tags": []
   },
   "source": [
    "# AWESAM - **A**daptive-**W**indow Volcanic **E**vent **S**election **A**nalysis **M**odule\n",
    "\n",
    "Awesam is a package containing tools to create seismo-volcanic event catalogs from seismic data. This includes:\n",
    "- download seismic data from FDSN-datacenters,\n",
    "- create seismo-volcanic event catalogs,\n",
    "- compare catalogs from two stations to identify non-volcanic disturbances,\n",
    "- identification of earthquakes.\n",
    "\n",
    "\n",
    "For a detailed description of each step see the following publication: [Fenner et al., Automated Seismo-Volcanic Event Detection Applied to Stromboli (Italy), Frontiers in Earth Science, 2022](https://www.doi.org/10.3389/feart.2022.809037)\n",
    "\n",
    "On Youtube, there is a video tutorial too: [Tutorial (Youtube)]().\n",
    "\n",
    "The following code shows how to create a catalog for Stromboli (Italy). Afterwards it is explained, how to generalize the code for other volcanoes.\n",
    "\n",
    "If something does not work as described, please open an issue on [GitHub](https://github.com/srivastavaresearchgroup/AWESAM)."
   ]
  },
  {
   "cell_type": "markdown",
   "id": "0172ec54-dedd-4002-80dc-6a9f025fccf6",
   "metadata": {
    "tags": []
   },
   "source": [
    "## **Step 1:** Installation\n",
    "\n",
    "1. Clone the github repository (with `git clone https://github.com/srivastavaresearchgroup/AWESAM.git`). Be sure python can import the package.\n",
    "\n",
    "2. Install necessary the dependencies: `numpy`, `obspy`, `scipy`, `pandas`, `torch`, and for testing `matplotlib`.\n",
    "\n",
    "3. Some parts of AWESAM are written in C and have to be compiled first. On systems where `gcc` is installed, this is automatically done. But, if no compiler can be found, the module automatically switches to a (less performant) python-backend. Then, `numba` must be installed too."
   ]
  },
  {
   "cell_type": "markdown",
   "id": "1a1ee006-df5c-4f10-bd20-720c50839263",
   "metadata": {
    "tags": []
   },
   "source": [
    "## **Step 2:** Imports and Configuration"
   ]
  },
  {
   "cell_type": "markdown",
   "id": "f9962b89-b579-4f79-bbf7-6f0615d8236c",
   "metadata": {},
   "source": [
    "Before starting, some basic configurations need to be done. There are two possibilities:\n",
    "1. Edit the file `awesam/config.py` and reload the library (e.g. restart the jupyter notebook)\n",
    "2. Directly configure the settings in the code (see below)"
   ]
  },
  {
   "cell_type": "code",
   "execution_count": null,
   "id": "9b50a690-06c5-4cce-b0a6-6e785195a2f0",
   "metadata": {},
   "outputs": [],
   "source": [
    "from awesam import config\n",
    "\n",
    "# all downloaded seismic data will be stored here\n",
    "config.settings[\"general\"][\"mseed_directory\"] = \"/path/to/...\"\n",
    "# the final catalogs will be stored here\n",
    "config.settings[\"general\"][\"catalog_directory\"] = \"/path/to/...\"\n",
    "\n",
    "# additional steps, that are not necessary for now, and which are explained later\n",
    "config.settings[\"general\"][\"pipeline\"][\"use_catalog_consolidation\"] = False\n",
    "config.settings[\"general\"][\"pipeline\"][\"use_earthquake_classification\"] = False\n",
    "\n",
    "# Volcano specific settings (in this case: Stromboli)\n",
    "config.settings[\"general\"][\"service\"] = \"INGV\"\n",
    "config.settings[\"general\"][\"stations\"] = [\n",
    "    {\"station\": \"IV.IST3.--\", \"channels\": [\"HHN\", \"HHE\", \"HHZ\"], \"sampling_rate\": 100},\n",
    "    {\"station\": \"IV.ISTR.--\", \"channels\": [\"HHN\", \"HHE\", \"HHZ\"], \"sampling_rate\": 100},\n",
    "]\n",
    "config.settings[\"general\"][\"coordinates\"] = np.array([38.793315, 15.211588])"
   ]
  },
  {
   "cell_type": "markdown",
   "id": "11f1ef22-1bf8-4f3e-b473-99b68f4b9852",
   "metadata": {
    "tags": []
   },
   "source": [
    "## **Step 3:** Data Download"
   ]
  },
  {
   "cell_type": "code",
   "execution_count": null,
   "id": "f36fa673-459e-4427-910a-26b5e95c4e0a",
   "metadata": {},
   "outputs": [],
   "source": [
    "from awesam import MassDownload\n",
    "\n",
    "# Download data from all stations and all channels.\n",
    "MassDownload.multiprocessing_download(\n",
    "    start=dt.datetime(2021, 1, 1), end=dt.datetime(2021, 1, 31)\n",
    ")"
   ]
  },
  {
   "cell_type": "markdown",
   "id": "631da773-f7d2-4121-91eb-38a658cf8c8f",
   "metadata": {},
   "source": [
    "> Note: Multiprocessing is used for optimal performance. This often results in error messages not being displayed (in jupyter notebooks). If something doesn't seem to work, add `use_multiprocessing=False` as additional argument."
   ]
  },
  {
   "cell_type": "markdown",
   "id": "de1d1601-21ed-4a8f-8d19-ac1762064d7b",
   "metadata": {
    "tags": []
   },
   "source": [
    "## **Step 4:** Catalog Pipeline\n",
    "\n",
    "Now the main step: The complete catalog is generated for the specified period. In this process multiple files are created in `config.settings['general']['catalog_directory']`:\n",
    "- `test_[STATION]_events.csv`: Catalog for each station.\n",
    "- `test_gaps.csv`: A list of gaps in data for all stations.\n",
    "- `test_FINAL.csv`: If `use_catalog_consolidation` or `use_earthquake_classification` are True, the final catalog contains the combined catalogs from two stations with the additional columns `event_probability` and/or `earthquakae_probability`. If both additional steps are set to False, test_FINAL.csv will be a copy of `test_[STATION]_events.csv` with the first station. "
   ]
  },
  {
   "cell_type": "code",
   "execution_count": null,
   "id": "08839012-bb68-433d-8910-d37ec0c28613",
   "metadata": {},
   "outputs": [],
   "source": [
    "from awesam import CatalogPipeline\n",
    "\n",
    "CatalogPipeline.multiprocessing_pipeline(\n",
    "    name=\"test\",\n",
    "    start=dt.datetime(2021, 1, 1),\n",
    "    end=dt.datetime(2021, 1, 31),\n",
    ")\n",
    "\n",
    "# loads the catalog\n",
    "pd.read_csv(\n",
    "    sys.path.join(config.settings[\"general\"][\"catalog_directory\"], \"test_FINAL.csv\")\n",
    ")"
   ]
  },
  {
   "cell_type": "markdown",
   "id": "249ecc31-b6f2-4e0d-aae5-5f3c44cefccc",
   "metadata": {},
   "source": [
    "To visualize the generated catalog in a plot (with the seismic data), you can use the submodule `awesam.testing`:"
   ]
  },
  {
   "cell_type": "code",
   "execution_count": null,
   "id": "79e18b4e-e45c-4019-8d3e-847861045bb1",
   "metadata": {},
   "outputs": [],
   "source": [
    "from awesam import tests\n",
    "\n",
    "# creates one test plot with a random date\n",
    "tests.test_catalog(n=1, name=\"test\", duration=dt.timedelta(hours=1))"
   ]
  },
  {
   "cell_type": "markdown",
   "id": "5fbca86d-920a-44c9-9c07-734d5d7db722",
   "metadata": {},
   "source": [
    "By default AWESAM is configured for Stromboli. If something doesn't look right, try to change the following settings. See the file `awesam/config.py` for description of each parameter:"
   ]
  },
  {
   "cell_type": "code",
   "execution_count": null,
   "id": "54fc6eac-eef8-4665-ac73-c759de6ea75b",
   "metadata": {},
   "outputs": [],
   "source": [
    "config.settings[\"EventDetection\"][\"threshold_window_size\"]\n",
    "config.settings[\"EventDetection\"][\"kernel_factor\"]\n",
    "config.settings[\"EventDetection\"][\"downsampling\"]\n",
    "config.settings[\"EventDetection\"][\"threshold_factor\"]\n",
    "\n",
    "# To get a more detailed insight what happens, you can use `tests.test_event_det`\n",
    "# to generate a plot with more information about the event detection process\n",
    "tests.test_event_det(dt.datetime(2021, 1, 5), dt.timedelta(minutes=30))"
   ]
  },
  {
   "cell_type": "markdown",
   "id": "517ff336-4ba9-41a8-93f1-ba1225008453",
   "metadata": {},
   "source": [
    "## **Step 5:** Catalog Consolidation (optional)\n",
    "\n",
    "To use Catalog Consolidation, two stations must be available (currently the algorithm only works for exactly two stations). To use it just set `config.settings['general']['pipeline']['use_catalog_consolidation'] = True` and rerun the CatalogPipeline.\n",
    "\n"
   ]
  },
  {
   "cell_type": "code",
   "execution_count": null,
   "id": "5df03ecf-c9e3-4396-9620-5117a2031023",
   "metadata": {},
   "outputs": [],
   "source": [
    "# To configure the algorithm, change.\n",
    "# - the first element in the array is the factor multiplied with the time difference\n",
    "# - the last element in the array is the factor multiplied with the amplitude difference\n",
    "config.settings[\"CatalogConsolidation\"][\"default_metric\"] = np.array(\n",
    "    [200, 0, 0, 0.1], dtype=np.double\n",
    ")\n",
    "\n",
    "# testing\n",
    "tests.catalog_consolidation_plot(dt.datetime(2021, 1, 5), dt.timedelta(hours=1))"
   ]
  },
  {
   "cell_type": "markdown",
   "id": "c59a88a8-fee1-4fae-bdff-90c6864b0111",
   "metadata": {},
   "source": [
    "## **Step 6:** Earthquake Classification (optional)\n",
    "\n",
    "In many cases, it is useful to know whether an event is volcanic or if it is an earthquake, expecially for large events. \n",
    "\n",
    "The EarthquakeClassification algorithm attempts to estimate the arrival time and amplitude of earthquakes at the volcano. This is estimated from an official catalog, for example the ISC catalog. Then it utilizes the CatalogConsolidation algorithm again.\n",
    "\n",
    "First, download an earthquake catalog for the region and store it in `config.settings['general']['earthquake_catalog_directory']`. Store it as a csv-file per year with the name: `2020.csv`, `2021.csv` etc. It must have the following columns: `date,latitude,longitude,magnitude,depth`. Depth must be in kilometers.\n",
    "\n",
    "To use it, set `config.settings['general']['use_earthquake_classification']` to true and rerun the pipeline. The resulting catalog has an additional column called “earthquake_probability”. See the settings in `EarthquakeClassification` for details about the configuration. "
   ]
  },
  {
   "cell_type": "markdown",
   "id": "54489a51-8019-480a-b035-b1def4277d44",
   "metadata": {},
   "source": [
    "## **Step 7:** Customization for other volcanoes\n",
    "\n",
    "All settings can be changed in the file `config.py`. Each setting is described there. Make sure to reload `config.py` after changing something with `importlib.reload(config)`. There are also presetsfor Stromboli (Italy), Etna (Italy), Whakaari (New Zealand), and Yasur (Whakaari)  in `presets.py` .\n"
   ]
  }
 ],
 "metadata": {
  "kernelspec": {
   "display_name": "Python 3 (ipykernel)",
   "language": "python",
   "name": "python3"
  },
  "language_info": {
   "codemirror_mode": {
    "name": "ipython",
    "version": 3
   },
   "file_extension": ".py",
   "mimetype": "text/x-python",
   "name": "python",
   "nbconvert_exporter": "python",
   "pygments_lexer": "ipython3",
   "version": "3.8.10"
  }
 },
 "nbformat": 4,
 "nbformat_minor": 5
}
